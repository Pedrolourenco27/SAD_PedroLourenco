{
  "nbformat": 4,
  "nbformat_minor": 0,
  "metadata": {
    "colab": {
      "name": "TPC_2.ipynb",
      "version": "0.3.2",
      "provenance": []
    },
    "kernelspec": {
      "display_name": "Python 3",
      "language": "python",
      "name": "python3"
    }
  },
  "cells": [
    {
      "metadata": {
        "id": "hKlP5IiqCEld",
        "colab_type": "text"
      },
      "cell_type": "markdown",
      "source": [
        "# SAD - TPC 2\n",
        "\n",
        "### Dominar a linguagem Python 2\n",
        "\n",
        "----\n",
        "\n",
        "\n",
        "Uma cada carta é identificada pelo seu numero\n",
        "\n",
        "- 1,2,3,4,5,6,7,8,9,10,D,V,R (sendo os ultimos dama, valete e rei)\n",
        "\n",
        "e pelo seu naipe \n",
        "\n",
        "- copas(C); paus (P); Ouros (O); Espadas (E)\n",
        "\n",
        "Um exemplo de uma carta seria **E10** ou **PR**\n",
        "\n",
        "Considere um conjunto de N cartas definido numa lista A. \n",
        "\n",
        "Por exemplo, \n",
        "\n",
        "A = [P10, E9, C1]\n",
        "\n",
        "ou \n",
        "\n",
        "A = [\"1P\", \"1C\", \"1O\", \"2P\", \"2C\", \"2O\", \"2E\", \"3P\", \"3C\", \"3O\", \n",
        "     \"3E\", \"4P\", \"4C\", \"4O\", \"4E\", \"5P\", \"5C\", \"5O\", \"5E\", \"6P\", \"6C\", \"6O\", \n",
        "     \"6E\", \"7P\", \"7C\", \"7O\", \"7E\", \"8P\", \"8C\", \"8O\", \"8E\", \"9P\", \"9C\", \"9O\", \"9E\", \"DP\", \n",
        "     \"DC\", \"DO\", \"DE\", \"JP\", \"JC\", \"JO\", \"JE\", \"VP\", \"VC\", \"VO\", \"VE\", \"RP\", \"RC\", \"RO\", \"RE\", \n",
        "     \"1P\", \"1C\", \"1O\", \"1E\", \"2P\", \"2C\", \"2O\", \"2E\", \"3P\", \"3C\", \"3O\", \"3E\", \n",
        "     \"4P\", \"4C\", \"4O\", \"4E\", \"5P\", \"5C\", \"5O\", \"5E\", \"6P\", \"6C\", \"6O\", \"6E\", \"7P\", \"7C\", \n",
        "     \"7O\", \"7E\", \"8P\", \"8C\", \"8O\", \"8E\", \"9P\", \"9C\", \"9O\", \"9E\", \"DP\", \"DC\", \"DO\", \"DE\", \n",
        "     \"JP\", \"JC\", \"JO\", \"JE\", \"VP\", \"VC\", \"VO\", \"VE\", \"RP\", \"RC\", \"RO\", \"RE\", \"1P\", \"1C\", \n",
        "     \"1O\", \"1E\", \"2P\", \"2C\", \"2O\", \"2E\", \"3P\", \"3C\", \"3O\", \"3E\", \"4P\", \"4C\", \"4O\", \"4E\", \n",
        "     \"5P\", \"5C\", \"5O\", \"5E\", \"6P\", \"6C\", \"6O\", \"6E\", \"7P\", \"7C\", \"7O\", \"7E\", \"8P\", \"8C\", \n",
        "     \"8O\", \"8E\", \"9P\", \"9C\", \"9O\", \"9E\", \"DP\", \"DC\", \"DO\", \"DE\", \"JP\", \"JC\", \"JO\", \"JE\", \n",
        "     \"VP\", \"VC\", \"VO\", \"VE\", \"RP\", \"RC\", \"RO\", \"RE\"]\n",
        "\n",
        "\n",
        "ou \n",
        "\n",
        "\n",
        "\n",
        "\n",
        "Crie uma função que retorne o número de baralhos completos (com todas as cartas) existentes nessa lista."
      ]
    },
    {
      "metadata": {
        "id": "b32nP0kbCElg",
        "colab_type": "code",
        "colab": {
          "base_uri": "https://localhost:8080/",
          "height": 34
        },
        "outputId": "c6b20ef9-928b-4ad5-fd8d-c64b9c57b30c"
      },
      "cell_type": "code",
      "source": [
        "\n",
        "A = [\"1P\", \"1C\", \"1O\", \"2P\", \"2C\", \"2O\", \"2E\", \"3P\", \"3C\", \"3O\", \n",
        "     \"3E\", \"4P\", \"4C\", \"4O\", \"4E\", \"5P\", \"5C\", \"5O\", \"5E\", \"6P\", \"6C\", \"6O\", \n",
        "     \"6E\", \"7P\", \"7C\", \"7O\", \"7E\", \"8P\", \"8C\", \"8O\", \"8E\", \"9P\", \"9C\", \"9O\", \"9E\", \"DP\", \n",
        "     \"DC\", \"DO\", \"DE\", \"JP\", \"JC\", \"JO\", \"JE\", \"VP\", \"VC\", \"VO\", \"VE\", \"RP\", \"RC\", \"RO\", \"RE\", \n",
        "     \"1P\", \"1C\", \"1O\", \"1E\", \"2P\", \"2C\", \"2O\", \"2E\", \"3P\", \"3C\", \"3O\", \"3E\", \n",
        "     \"4P\", \"4C\", \"4O\", \"4E\", \"5P\", \"5C\", \"5O\", \"5E\", \"6P\", \"6C\", \"6O\", \"6E\", \"7P\", \"7C\", \n",
        "     \"7O\", \"7E\", \"8P\", \"8C\", \"8O\", \"8E\", \"9P\", \"9C\", \"9O\", \"9E\", \"DP\", \"DC\", \"DO\", \"DE\", \n",
        "     \"JP\", \"JC\", \"JO\", \"JE\", \"VP\", \"VC\", \"VO\", \"VE\", \"RP\", \"RC\", \"RO\", \"RE\", \"1P\", \"1C\", \n",
        "     \"1O\", \"1E\", \"2P\", \"2C\", \"2O\", \"2E\", \"3P\", \"3C\", \"3O\", \"3E\", \"4P\", \"4C\", \"4O\", \"4E\", \n",
        "     \"5P\", \"5C\", \"5O\", \"5E\", \"6P\", \"6C\", \"6O\", \"6E\", \"7P\", \"7C\", \"7O\", \"7E\", \"8P\", \"8C\", \n",
        "     \"8O\", \"8E\", \"9P\", \"9C\", \"9O\", \"9E\", \"DP\", \"DC\", \"DO\", \"DE\", \"JP\", \"JC\", \"JO\", \"JE\", \n",
        "     \"VP\", \"VC\", \"VO\", \"VE\", \"RP\", \"RC\", \"RO\", \"RE\"]\n",
        "\n",
        "cards = {\n",
        "    \"P\" : 0,\n",
        "    \"C\" : 0,\n",
        "    \"O\" : 0,\n",
        "    \"E\" : 0\n",
        "};\n",
        "\n",
        "def completed_decks(deck):\n",
        "  count = 0;\n",
        "  for i in deck:\n",
        "    card = i[len(i) - 1];\n",
        "    if (card in cards):\n",
        "      cards[card] += 1;\n",
        "  for i in cards:\n",
        "    count += cards.get(i);\n",
        "  return count // 52;\n",
        "\n",
        "\n",
        "completed_decks(A)"
      ],
      "execution_count": 8,
      "outputs": [
        {
          "output_type": "execute_result",
          "data": {
            "text/plain": [
              "2"
            ]
          },
          "metadata": {
            "tags": []
          },
          "execution_count": 8
        }
      ]
    }
  ]
}