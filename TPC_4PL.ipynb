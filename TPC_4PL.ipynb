{
  "nbformat": 4,
  "nbformat_minor": 0,
  "metadata": {
    "colab": {
      "name": "TPC_4.ipynb",
      "version": "0.3.2",
      "provenance": []
    },
    "kernelspec": {
      "display_name": "SADenv",
      "language": "python",
      "name": "sadenv"
    }
  },
  "cells": [
    {
      "metadata": {
        "id": "JSYmu4qnGVtN",
        "colab_type": "text"
      },
      "cell_type": "markdown",
      "source": [
        "# SAD - TPC 4\n",
        "\n",
        "### Aplicar Algoritmos\n",
        "\n",
        "----\n",
        "\n",
        "\n",
        "- Usando sklearn correr os métodos Decision Tree, Random Forrest e Naive Bayes para o dataset Digits, definido em baixo;\n",
        "\n",
        "- Usar o training set para executar o treino do modelo;\n",
        "\n",
        "- Comparar o erro obtido em cada método, para o testset e para o training set e expecificar se os valores são os esperados;\n",
        "\n",
        "- Para um dos algoritmos, dar exemplos do test set de instâncias mal bem classificadas (2 de cada);\n",
        "\n",
        "O DataSet de dígitos pode ser carregado assim:"
      ]
    },
    {
      "metadata": {
        "id": "jUSAQaaZJlkj",
        "colab_type": "text"
      },
      "cell_type": "markdown",
      "source": [
        "**Decision** **Tree**"
      ]
    },
    {
      "metadata": {
        "id": "VE1EsTBaGVtW",
        "colab_type": "code",
        "colab": {
          "base_uri": "https://localhost:8080/",
          "height": 67
        },
        "outputId": "02d11abd-4128-409b-fabc-4bf6ba060218"
      },
      "cell_type": "code",
      "source": [
        "\n",
        "# Import datasets, classifiers and performance metrics\n",
        "from sklearn import datasets,model_selection\n",
        "import matplotlib.pyplot as plt\n",
        "from sklearn import tree\n",
        "\n",
        "digits = datasets.load_digits()\n",
        "\n",
        "[features_train, features_test, classes_train, classes_test] = model_selection.train_test_split(digits.data, digits.target, test_size=0.50)\n",
        "\n",
        "model = tree.DecisionTreeClassifier()\n",
        "\n",
        "treinos = model.fit(features_train, classes_train)\n",
        "\n",
        "score_train = model.score(features_train, classes_train)\n",
        "score_test = model.score(features_test, classes_test)\n",
        "\n",
        "print(\"Features:\", digits.target_names)\n",
        "print(\"score_train:\", score_train)\n",
        "print(\"score_test:\", score_test)\n",
        "\n"
      ],
      "execution_count": 16,
      "outputs": [
        {
          "output_type": "stream",
          "text": [
            "('Features:', array([0, 1, 2, 3, 4, 5, 6, 7, 8, 9]))\n",
            "('score_train:', 1.0)\n",
            "('score_test:', 0.8275862068965517)\n"
          ],
          "name": "stdout"
        }
      ]
    },
    {
      "metadata": {
        "id": "QWbI4Wg1KpiS",
        "colab_type": "text"
      },
      "cell_type": "markdown",
      "source": [
        "**Random Forrest**"
      ]
    },
    {
      "metadata": {
        "id": "050UAUssKpCg",
        "colab_type": "code",
        "colab": {
          "base_uri": "https://localhost:8080/",
          "height": 67
        },
        "outputId": "92fa8b19-cb85-45fc-a7c9-ee5e71d8cf18"
      },
      "cell_type": "code",
      "source": [
        "# Import datasets, classifiers and performance metrics\n",
        "from sklearn import datasets,model_selection\n",
        "import matplotlib.pyplot as plt\n",
        "from sklearn.ensemble import RandomForestClassifier\n",
        "\n",
        "[features_train, features_test, classes_train, classes_test] = model_selection.train_test_split(digits.data, digits.target, test_size=0.50)\n",
        "model = RandomForestClassifier(n_estimators=1000)\n",
        "\n",
        "treinos = model.fit(features_train, classes_train)\n",
        "\n",
        "score_train = model.score(features_train, classes_train)\n",
        "score_test = model.score(features_test, classes_test)\n",
        "\n",
        "print(\"Features:\", digits.target_names)\n",
        "print(\"score_train:\", score_train)\n",
        "print(\"score_test:\", score_test)\n"
      ],
      "execution_count": 18,
      "outputs": [
        {
          "output_type": "stream",
          "text": [
            "('Features:', array([0, 1, 2, 3, 4, 5, 6, 7, 8, 9]))\n",
            "('score_train:', 1.0)\n",
            "('score_test:', 0.9766407119021134)\n"
          ],
          "name": "stdout"
        }
      ]
    },
    {
      "metadata": {
        "id": "JjW9fYY0LyS0",
        "colab_type": "text"
      },
      "cell_type": "markdown",
      "source": [
        "**Naive Bayes**"
      ]
    },
    {
      "metadata": {
        "id": "i2E8Eow1L3_D",
        "colab_type": "code",
        "colab": {
          "base_uri": "https://localhost:8080/",
          "height": 67
        },
        "outputId": "83ad216d-2e0e-41fd-ca0a-6041fa1e0bf2"
      },
      "cell_type": "code",
      "source": [
        "# Import datasets, classifiers and performance metrics\n",
        "from sklearn import datasets,model_selection\n",
        "import matplotlib.pyplot as plt\n",
        "from sklearn.naive_bayes import GaussianNB\n",
        "\n",
        "pqp = GaussianNB()\n",
        "[features_train, features_test, classes_train, classes_test] = model_selection.train_test_split(digits.data, digits.target, test_size=0.50)\n",
        "y_pred = pqp.fit(features_train, classes_train)\n",
        "\n",
        "score_train = pqp.score(features_train, classes_train)\n",
        "score_test = pqp.score(features_test, classes_test)\n",
        "\n",
        "print(\"Features:\", digits.target_names)\n",
        "print(\"score_train:\", score_train)\n",
        "print(\"score_test:\", score_test)\n"
      ],
      "execution_count": 21,
      "outputs": [
        {
          "output_type": "stream",
          "text": [
            "('Features:', array([0, 1, 2, 3, 4, 5, 6, 7, 8, 9]))\n",
            "('score_train:', 0.8162583518930958)\n",
            "('score_test:', 0.7708565072302559)\n"
          ],
          "name": "stdout"
        }
      ]
    }
  ]
}